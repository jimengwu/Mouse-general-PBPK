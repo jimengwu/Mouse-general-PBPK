{
 "cells": [
  {
   "cell_type": "markdown",
   "id": "c821abd2",
   "metadata": {},
   "source": [
    "# mouse TK data "
   ]
  },
  {
   "cell_type": "code",
   "execution_count": 19,
   "id": "abb3141e",
   "metadata": {},
   "outputs": [],
   "source": [
    "import pandas as pd"
   ]
  },
  {
   "cell_type": "code",
   "execution_count": 20,
   "id": "a1126bb1",
   "metadata": {},
   "outputs": [],
   "source": [
    "mouse_tk = pd.read_excel(\"C:/switchdriver/dataset/tk/mouse_tk.xlsx\", None)\n",
    "pub_info = pd.read_csv(\"C:/switchdriver/dataset/tk/mouse_tk_link_info.csv\")"
   ]
  },
  {
   "cell_type": "code",
   "execution_count": 32,
   "id": "e6a822f7",
   "metadata": {},
   "outputs": [],
   "source": [
    "# assign a id to each study\n",
    "c = pub_info.PMID.astype('category')\n",
    "d = dict(enumerate(c.cat.categories))\n",
    "pub_info['Study_id'] = pub_info.PMID.astype('category').cat.codes\n",
    "pub_info.to_csv(\"C:/switchdriver/dataset/tk/mouse_tk_link_info.csv\")"
   ]
  },
  {
   "cell_type": "code",
   "execution_count": 38,
   "id": "91cc469a",
   "metadata": {
    "collapsed": true
   },
   "outputs": [
    {
     "name": "stdout",
     "output_type": "stream",
     "text": [
      "Spleen\n",
      "Lung\n",
      "Liver\n",
      "Blood\n",
      "Stomach\n",
      "Intestine\n",
      "Kidney\n",
      "Heart\n",
      "Brain\n",
      "Bone\n",
      "Pancreas\n",
      "Skin\n",
      "Tail\n",
      "Muscle\n"
     ]
    }
   ],
   "source": [
    "with pd.ExcelWriter(\"C:/switchdriver/dataset/tk/mouse_tk_detailed.xlsx\") as writer: \n",
    "    for i in mouse_tk.keys():\n",
    "        df_i = pd.read_excel(\"C:/switchdriver/dataset/tk/mouse_tk.xlsx\", i)\n",
    "#         print(df_i.columns)\n",
    "        df_i.PMID = df_i.PMID.astype(str)\n",
    "        new_df = pd.merge(df_i,pub_info, on=\"PMID\",how=\"left\")\n",
    "        print(i)\n",
    "        new_df.to_excel(writer,sheet_name=i)"
   ]
  },
  {
   "cell_type": "code",
   "execution_count": 122,
   "id": "5377638e",
   "metadata": {},
   "outputs": [],
   "source": [
    "year = pub_info['Year of publication'].value_counts().to_frame().sort_index()"
   ]
  },
  {
   "cell_type": "code",
   "execution_count": 123,
   "id": "9cfbb364",
   "metadata": {
    "collapsed": true
   },
   "outputs": [
    {
     "data": {
      "image/png": "[encoded data removed]",
      "text/plain": [
       "<Figure size 640x480 with 1 Axes>"
      ]
     },
     "metadata": {},
     "output_type": "display_data"
    }
   ],
   "source": [
    "ax = year.plot(kind='bar',alpha=0.5,edgecolor='black', linewidth=1.2)\n",
    "# ax.grid()\n",
    "ax.spines['top'].set_visible(False)\n",
    "ax.spines['right'].set_visible(False)"
   ]
  },
  {
   "cell_type": "markdown",
   "id": "73e54827",
   "metadata": {},
   "source": [
    "# GET mouse TK data"
   ]
  },
  {
   "cell_type": "code",
   "execution_count": 39,
   "id": "3fcfbffe",
   "metadata": {},
   "outputs": [],
   "source": [
    "mouse_tk_all = pd.read_excel(\"C:/switchdriver/dataset/tk/mouse_tk_detailed.xlsx\", None)\n",
    "ls_sheet = [i for i in mouse_tk_all.keys()]"
   ]
  },
  {
   "cell_type": "code",
   "execution_count": 40,
   "id": "b4af29bd",
   "metadata": {
    "scrolled": false
   },
   "outputs": [
    {
     "data": {
      "text/plain": [
       "['Spleen',\n",
       " 'Lung',\n",
       " 'Liver',\n",
       " 'Blood',\n",
       " 'Stomach',\n",
       " 'Intestine',\n",
       " 'Kidney',\n",
       " 'Heart',\n",
       " 'Brain',\n",
       " 'Bone',\n",
       " 'Pancreas',\n",
       " 'Skin',\n",
       " 'Tail',\n",
       " 'Muscle']"
      ]
     },
     "execution_count": 40,
     "metadata": {},
     "output_type": "execute_result"
    }
   ],
   "source": [
    "ls_sheet"
   ]
  },
  {
   "cell_type": "code",
   "execution_count": 41,
   "id": "46a04e35",
   "metadata": {},
   "outputs": [
    {
     "data": {
      "text/plain": [
       "Index(['Unnamed: 0', 'ID', 'Time_h', 'perc_ID_g', 'Species', 'Age/weight',\n",
       "       'Strain', 'Organ', 'Size_nm', 'Analysis method', 'NP_Type', 'NP_Shape',\n",
       "       'Ligand', 'Charge', 'PEG cover', 'PMID', 'Name', 'Paper Title',\n",
       "       'Publication link', 'Year of publication', 'Study_id'],\n",
       "      dtype='object')"
      ]
     },
     "execution_count": 41,
     "metadata": {},
     "output_type": "execute_result"
    }
   ],
   "source": [
    "df_liver = pd.read_excel(\"C:/switchdriver/dataset/tk/mouse_tk_detailed.xlsx\", 'Liver')\n",
    "df_liver.columns"
   ]
  },
  {
   "cell_type": "code",
   "execution_count": 46,
   "id": "d7a1e11e",
   "metadata": {
    "scrolled": true
   },
   "outputs": [
    {
     "data": {
      "text/plain": [
       "84    35\n",
       "94    32\n",
       "5     22\n",
       "12    21\n",
       "88    18\n",
       "13    16\n",
       "65    12\n",
       "64    12\n",
       "48    12\n",
       "42    12\n",
       "Name: Study_id, dtype: int64"
      ]
     },
     "execution_count": 46,
     "metadata": {},
     "output_type": "execute_result"
    }
   ],
   "source": [
    "df_liver.Study_id.value_counts()[:10]"
   ]
  }
 ],
 "metadata": {
  "kernelspec": {
   "display_name": "Python 3 (ipykernel)",
   "language": "python",
   "name": "python3"
  },
  "language_info": {
   "codemirror_mode": {
    "name": "ipython",
    "version": 3
   },
   "file_extension": ".py",
   "mimetype": "text/x-python",
   "name": "python",
   "nbconvert_exporter": "python",
   "pygments_lexer": "ipython3",
   "version": "3.9.13"
  }
 },
 "nbformat": 4,
 "nbformat_minor": 5
}
